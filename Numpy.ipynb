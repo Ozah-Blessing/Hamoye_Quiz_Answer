{
  "nbformat": 4,
  "nbformat_minor": 0,
  "metadata": {
    "colab": {
      "name": "Numpy.ipynb",
      "provenance": [],
      "collapsed_sections": [],
      "authorship_tag": "ABX9TyPifBWZkrN82lUe/zT+eGvA",
      "include_colab_link": true
    },
    "kernelspec": {
      "name": "python3",
      "display_name": "Python 3"
    },
    "language_info": {
      "name": "python"
    }
  },
  "cells": [
    {
      "cell_type": "markdown",
      "metadata": {
        "id": "view-in-github",
        "colab_type": "text"
      },
      "source": [
        "<a href=\"https://colab.research.google.com/github/Ozah-Blessing/Hamoye_Quiz_Answer/blob/main/Numpy.ipynb\" target=\"_parent\"><img src=\"https://colab.research.google.com/assets/colab-badge.svg\" alt=\"Open In Colab\"/></a>"
      ]
    },
    {
      "cell_type": "code",
      "metadata": {
        "id": "TvuwxIzcla0A"
      },
      "source": [
        "import numpy as np\n"
      ],
      "execution_count": null,
      "outputs": []
    },
    {
      "cell_type": "markdown",
      "metadata": {
        "id": "LPGsGtGMm47s"
      },
      "source": [
        "code to print the type of array\n"
      ]
    },
    {
      "cell_type": "code",
      "metadata": {
        "colab": {
          "base_uri": "https://localhost:8080/"
        },
        "id": "3c3jlZOtnJJl",
        "outputId": "0d191724-b5d4-4307-e0ea-6c872d39e804"
      },
      "source": [
        "arr=[6,7,8,9]\n",
        "print(type(arr))"
      ],
      "execution_count": null,
      "outputs": [
        {
          "output_type": "stream",
          "text": [
            "<class 'list'>\n"
          ],
          "name": "stdout"
        }
      ]
    },
    {
      "cell_type": "code",
      "metadata": {
        "colab": {
          "base_uri": "https://localhost:8080/"
        },
        "id": "FlJdLOtGoQE2",
        "outputId": "9307d475-6631-4f9f-d4d4-4fb5d76e3752"
      },
      "source": [
        "a=np.array(arr)\n",
        "print(type(a))"
      ],
      "execution_count": null,
      "outputs": [
        {
          "output_type": "stream",
          "text": [
            "<class 'numpy.ndarray'>\n"
          ],
          "name": "stdout"
        }
      ]
    },
    {
      "cell_type": "markdown",
      "metadata": {
        "id": "MB5RLOAEoml3"
      },
      "source": [
        "a is a 1d array with 4 items"
      ]
    },
    {
      "cell_type": "code",
      "metadata": {
        "colab": {
          "base_uri": "https://localhost:8080/"
        },
        "id": "yYjjaG6koc0B",
        "outputId": "841f157a-a045-4fa7-fcf3-48aa11e80bbf"
      },
      "source": [
        "print(a.shape)"
      ],
      "execution_count": null,
      "outputs": [
        {
          "output_type": "stream",
          "text": [
            "(4,)\n"
          ],
          "name": "stdout"
        }
      ]
    },
    {
      "cell_type": "code",
      "metadata": {
        "colab": {
          "base_uri": "https://localhost:8080/"
        },
        "id": "UOX7elj8o01U",
        "outputId": "3c7276e9-e148-463e-b387-5df18f142900"
      },
      "source": [
        "print(a.dtype)"
      ],
      "execution_count": null,
      "outputs": [
        {
          "output_type": "stream",
          "text": [
            "int64\n"
          ],
          "name": "stdout"
        }
      ]
    },
    {
      "cell_type": "markdown",
      "metadata": {
        "id": "SiZYIwAapHym"
      },
      "source": [
        "Get the Dimension of a using *ndim*"
      ]
    },
    {
      "cell_type": "code",
      "metadata": {
        "colab": {
          "base_uri": "https://localhost:8080/"
        },
        "id": "36jR7Q40pLh_",
        "outputId": "a86b9a46-fc33-4a47-9458-2a08f26ad53d"
      },
      "source": [
        "print(a.ndim)"
      ],
      "execution_count": null,
      "outputs": [
        {
          "output_type": "stream",
          "text": [
            "1\n"
          ],
          "name": "stdout"
        }
      ]
    },
    {
      "cell_type": "code",
      "metadata": {
        "colab": {
          "base_uri": "https://localhost:8080/"
        },
        "id": "ifYl7HFtpWz2",
        "outputId": "670ebb80-a5ec-4df9-fcd0-3e12df6a30e9"
      },
      "source": [
        "b=np.array([[1,2,3],[4,3,6]])\n",
        "print(b)"
      ],
      "execution_count": null,
      "outputs": [
        {
          "output_type": "stream",
          "text": [
            "[[1 2 3]\n",
            " [4 3 6]]\n"
          ],
          "name": "stdout"
        }
      ]
    },
    {
      "cell_type": "code",
      "metadata": {
        "colab": {
          "base_uri": "https://localhost:8080/"
        },
        "id": "4KGriGNgqYJU",
        "outputId": "2a00325b-013a-4b17-e01b-c81537a03abc"
      },
      "source": [
        "print (b.ndim)"
      ],
      "execution_count": null,
      "outputs": [
        {
          "output_type": "stream",
          "text": [
            "2\n"
          ],
          "name": "stdout"
        }
      ]
    },
    {
      "cell_type": "code",
      "metadata": {
        "colab": {
          "base_uri": "https://localhost:8080/"
        },
        "id": "_QZ4cdZAqe6R",
        "outputId": "38189a1d-dcbc-4eb5-9f2f-5ca22cccf721"
      },
      "source": [
        "print (b.shape)"
      ],
      "execution_count": null,
      "outputs": [
        {
          "output_type": "stream",
          "text": [
            "(2, 3)\n"
          ],
          "name": "stdout"
        }
      ]
    },
    {
      "cell_type": "code",
      "metadata": {
        "colab": {
          "base_uri": "https://localhost:8080/"
        },
        "id": "_JS8xUl9vi60",
        "outputId": "91db39e7-cc9f-414d-f08e-f0e52ea0f6bb"
      },
      "source": [
        "c=np.array([[9.0,8.0,7.0],[1.0,2.0,3.0]])\n",
        "d=np.array([[4.0,5.0,6.0],[9.0,8.0,7.0]])\n",
        "c+d"
      ],
      "execution_count": null,
      "outputs": [
        {
          "output_type": "execute_result",
          "data": {
            "text/plain": [
              "array([[13., 13., 13.],\n",
              "       [10., 10., 10.]])"
            ]
          },
          "metadata": {},
          "execution_count": 18
        }
      ]
    },
    {
      "cell_type": "code",
      "metadata": {
        "colab": {
          "base_uri": "https://localhost:8080/"
        },
        "id": "2RtiydMSxVDe",
        "outputId": "e7a03f19-bfbc-4a12-e46a-94ad552c5d31"
      },
      "source": [
        "c*d"
      ],
      "execution_count": null,
      "outputs": [
        {
          "output_type": "execute_result",
          "data": {
            "text/plain": [
              "array([[36., 40., 42.],\n",
              "       [ 9., 16., 21.]])"
            ]
          },
          "metadata": {},
          "execution_count": 19
        }
      ]
    },
    {
      "cell_type": "code",
      "metadata": {
        "colab": {
          "base_uri": "https://localhost:8080/"
        },
        "id": "JnmEHaOcxdv-",
        "outputId": "35d4d741-34d8-447d-9025-d41565b3fce0"
      },
      "source": [
        "5/d"
      ],
      "execution_count": null,
      "outputs": [
        {
          "output_type": "execute_result",
          "data": {
            "text/plain": [
              "array([[1.25      , 1.        , 0.83333333],\n",
              "       [0.55555556, 0.625     , 0.71428571]])"
            ]
          },
          "metadata": {},
          "execution_count": 20
        }
      ]
    },
    {
      "cell_type": "code",
      "metadata": {
        "colab": {
          "base_uri": "https://localhost:8080/"
        },
        "id": "AUl5zqVixude",
        "outputId": "bec15a4f-e5a7-41d5-c6f2-18a41b957d0c"
      },
      "source": [
        "c**2"
      ],
      "execution_count": null,
      "outputs": [
        {
          "output_type": "execute_result",
          "data": {
            "text/plain": [
              "array([[81., 64., 49.],\n",
              "       [ 1.,  4.,  9.]])"
            ]
          },
          "metadata": {},
          "execution_count": 21
        }
      ]
    },
    {
      "cell_type": "markdown",
      "metadata": {
        "id": "FxXd_5_30we4"
      },
      "source": [
        "**INDEXING WITH ARRAY**"
      ]
    },
    {
      "cell_type": "code",
      "metadata": {
        "colab": {
          "base_uri": "https://localhost:8080/"
        },
        "id": "g_i4H-Ti02No",
        "outputId": "9c70f41a-e023-45cb-9558-4e91eb02ad33"
      },
      "source": [
        "a[0]"
      ],
      "execution_count": null,
      "outputs": [
        {
          "output_type": "execute_result",
          "data": {
            "text/plain": [
              "6"
            ]
          },
          "metadata": {},
          "execution_count": 22
        }
      ]
    },
    {
      "cell_type": "code",
      "metadata": {
        "colab": {
          "base_uri": "https://localhost:8080/"
        },
        "id": "GwdoUBx406qL",
        "outputId": "c8b62cb2-d274-4cc2-accd-0697e6b31901"
      },
      "source": [
        "a[3]"
      ],
      "execution_count": null,
      "outputs": [
        {
          "output_type": "execute_result",
          "data": {
            "text/plain": [
              "9"
            ]
          },
          "metadata": {},
          "execution_count": 23
        }
      ]
    },
    {
      "cell_type": "code",
      "metadata": {
        "colab": {
          "base_uri": "https://localhost:8080/"
        },
        "id": "XrdAYs_z0_WX",
        "outputId": "94967a98-3c76-49aa-e3bc-f44ff6a0f58e"
      },
      "source": [
        "b[0,0]"
      ],
      "execution_count": null,
      "outputs": [
        {
          "output_type": "execute_result",
          "data": {
            "text/plain": [
              "1"
            ]
          },
          "metadata": {},
          "execution_count": 24
        }
      ]
    },
    {
      "cell_type": "code",
      "metadata": {
        "colab": {
          "base_uri": "https://localhost:8080/"
        },
        "id": "S5He6e781EX8",
        "outputId": "47033199-e0bb-469b-c5ca-63ef93d52eca"
      },
      "source": [
        "b[1,2]"
      ],
      "execution_count": null,
      "outputs": [
        {
          "output_type": "execute_result",
          "data": {
            "text/plain": [
              "6"
            ]
          },
          "metadata": {},
          "execution_count": 25
        }
      ]
    },
    {
      "cell_type": "code",
      "metadata": {
        "colab": {
          "base_uri": "https://localhost:8080/"
        },
        "id": "mvfoFGl11JJO",
        "outputId": "639ad5d7-94f3-41e5-da2d-782158cdcce8"
      },
      "source": [
        "c[0,1]"
      ],
      "execution_count": null,
      "outputs": [
        {
          "output_type": "execute_result",
          "data": {
            "text/plain": [
              "8.0"
            ]
          },
          "metadata": {},
          "execution_count": 26
        }
      ]
    },
    {
      "cell_type": "code",
      "metadata": {
        "colab": {
          "base_uri": "https://localhost:8080/"
        },
        "id": "Iv6s2F_65pQM",
        "outputId": "6f8e37e3-6e06-4577-921e-68714b160e99"
      },
      "source": [
        "d[1, 0:2]"
      ],
      "execution_count": null,
      "outputs": [
        {
          "output_type": "execute_result",
          "data": {
            "text/plain": [
              "array([9., 8.])"
            ]
          },
          "metadata": {},
          "execution_count": 27
        }
      ]
    },
    {
      "cell_type": "markdown",
      "metadata": {
        "id": "SNaNcfld-so3"
      },
      "source": [
        "**SLICING**\n"
      ]
    },
    {
      "cell_type": "code",
      "metadata": {
        "colab": {
          "base_uri": "https://localhost:8080/"
        },
        "id": "bczbP59V-RY2",
        "outputId": "786f3ede-9e7e-4b16-fb38-a72eb61b9729"
      },
      "source": [
        "e=np.array([[10,11,12],[13,14,15],[16,17,18],[19,20,21]])\n",
        "e[0:3, 0:2]"
      ],
      "execution_count": null,
      "outputs": [
        {
          "output_type": "execute_result",
          "data": {
            "text/plain": [
              "array([[10, 11],\n",
              "       [13, 14],\n",
              "       [16, 17]])"
            ]
          },
          "metadata": {},
          "execution_count": 28
        }
      ]
    },
    {
      "cell_type": "code",
      "metadata": {
        "colab": {
          "base_uri": "https://localhost:8080/"
        },
        "id": "JIKQs-yB_UHu",
        "outputId": "dd2de6f3-e411-4f27-ed83-8978f68c17a2"
      },
      "source": [
        "e[-1]"
      ],
      "execution_count": null,
      "outputs": [
        {
          "output_type": "execute_result",
          "data": {
            "text/plain": [
              "array([19, 20, 21])"
            ]
          },
          "metadata": {},
          "execution_count": 30
        }
      ]
    },
    {
      "cell_type": "code",
      "metadata": {
        "colab": {
          "base_uri": "https://localhost:8080/"
        },
        "id": "p_-oiHd1_ey2",
        "outputId": "35ccb78d-09c0-417b-db8d-b6222746b907"
      },
      "source": [
        "e[0:2, 2]"
      ],
      "execution_count": null,
      "outputs": [
        {
          "output_type": "execute_result",
          "data": {
            "text/plain": [
              "array([12, 15])"
            ]
          },
          "metadata": {},
          "execution_count": 32
        }
      ]
    },
    {
      "cell_type": "markdown",
      "metadata": {
        "id": "Zsn8QF0ZAyN0"
      },
      "source": [
        "#INTEGER INDEXING* \n"
      ]
    },
    {
      "cell_type": "code",
      "metadata": {
        "colab": {
          "base_uri": "https://localhost:8080/"
        },
        "id": "HZQrg14vA7Zt",
        "outputId": "fc26ad93-63ed-4749-e485-81ba88d7f5bc"
      },
      "source": [
        "e[[2,0,3,2],[2,1,0,1]]"
      ],
      "execution_count": null,
      "outputs": [
        {
          "output_type": "execute_result",
          "data": {
            "text/plain": [
              "array([18, 11, 19, 17])"
            ]
          },
          "metadata": {},
          "execution_count": 33
        }
      ]
    },
    {
      "cell_type": "markdown",
      "metadata": {
        "id": "60QDsbnnBTAH"
      },
      "source": [
        "# Boolean Indeexinn"
      ]
    },
    {
      "cell_type": "code",
      "metadata": {
        "colab": {
          "base_uri": "https://localhost:8080/"
        },
        "id": "LLuNdF-MBXSp",
        "outputId": "93006026-a8e4-4531-c148-a73aac2daf63"
      },
      "source": [
        "e[e>115]"
      ],
      "execution_count": null,
      "outputs": [
        {
          "output_type": "execute_result",
          "data": {
            "text/plain": [
              "array([], dtype=int64)"
            ]
          },
          "metadata": {},
          "execution_count": 35
        }
      ]
    },
    {
      "cell_type": "code",
      "metadata": {
        "id": "padR0ySnBUmL"
      },
      "source": [
        ""
      ],
      "execution_count": null,
      "outputs": []
    }
  ]
}